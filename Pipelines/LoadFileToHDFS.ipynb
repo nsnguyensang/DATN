{
 "cells": [
  {
   "cell_type": "code",
   "execution_count": 1,
   "metadata": {},
   "outputs": [],
   "source": [
    "from pyspark.sql import SparkSession"
   ]
  },
  {
   "cell_type": "code",
   "execution_count": 6,
   "metadata": {},
   "outputs": [],
   "source": [
    "# Create a SparkSession\n",
    "spark = SparkSession.builder.appName(\"CSVToHadoopApp\").master(\"local[*]\").getOrCreate()\n",
    "\n",
    "# Read the CSV file\n",
    "data_full = spark.read.format(\"csv\") \\\n",
    "    .option(\"header\", \"true\") \\\n",
    "    .option(\"inferSchema\", \"true\") \\\n",
    "    .load(\"C:/Workspace/DATN/schema-matching/output/data_clean_mongo_ver2.csv\")  # Replace with the actual path to your CSV file\n",
    "# Save the DataFrame to HDFS\n",
    "data_full.coalesce(1).write.mode(\"overwrite\").csv(\"hdfs://localhost:9000/data_clean_mongo_ver2.csv\")\n",
    "\n",
    "# Stop the SparkSession\n",
    "spark.stop()"
   ]
  }
 ],
 "metadata": {
  "kernelspec": {
   "display_name": "Python 3",
   "language": "python",
   "name": "python3"
  },
  "language_info": {
   "codemirror_mode": {
    "name": "ipython",
    "version": 3
   },
   "file_extension": ".py",
   "mimetype": "text/x-python",
   "name": "python",
   "nbconvert_exporter": "python",
   "pygments_lexer": "ipython3",
   "version": "3.9.7"
  },
  "orig_nbformat": 4
 },
 "nbformat": 4,
 "nbformat_minor": 2
}
