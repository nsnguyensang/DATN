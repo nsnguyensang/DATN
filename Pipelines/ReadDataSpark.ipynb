{
 "cells": [
  {
   "cell_type": "code",
   "execution_count": 1,
   "id": "61a264d5",
   "metadata": {},
   "outputs": [],
   "source": [
    "from pyspark.context import SparkContext\n",
    "from pyspark.sql.session import SparkSession\n",
    "from IPython.display import Image"
   ]
  },
  {
   "cell_type": "code",
   "execution_count": null,
   "id": "8d911af1",
   "metadata": {},
   "outputs": [],
   "source": [
    "spark = SparkSession.builder.master(\"spark://192.168.56.1:7077\").appName(\"realEasteApp\").getOrCreate()"
   ]
  },
  {
   "cell_type": "code",
   "execution_count": 4,
   "id": "54ef37f2",
   "metadata": {},
   "outputs": [],
   "source": [
    "spark = SparkSession.builder.appName(\"realEasteApp\").master(\"local[*]\") .getOrCreate()"
   ]
  },
  {
   "cell_type": "code",
   "execution_count": 5,
   "id": "bc695ba9",
   "metadata": {},
   "outputs": [
    {
     "name": "stdout",
     "output_type": "stream",
     "text": [
      "<pyspark.sql.session.SparkSession object at 0x0000023D7FB6CB20>\n"
     ]
    }
   ],
   "source": [
    "print(spark)"
   ]
  },
  {
   "cell_type": "code",
   "execution_count": 10,
   "id": "d48c9d67",
   "metadata": {},
   "outputs": [],
   "source": [
    "data_full = spark.read.format(\"csv\").option(\"header\",\"true\")\\\n",
    ".option(\"inferSchema\",\"true\").load(\"hdfs://localhost:9000/data-final/data_clean_mongo_ver2.csv\")"
   ]
  },
  {
   "cell_type": "code",
   "execution_count": 13,
   "id": "31ca6a2c",
   "metadata": {},
   "outputs": [
    {
     "name": "stdout",
     "output_type": "stream",
     "text": [
      "root\n",
      " |-- _c0: string (nullable = true)\n",
      " |-- title: string (nullable = true)\n",
      " |-- description: string (nullable = true)\n",
      " |-- price: string (nullable = true)\n",
      " |-- square: string (nullable = true)\n",
      " |-- type: string (nullable = true)\n",
      " |-- name_contact: string (nullable = true)\n",
      " |-- phone_contact: string (nullable = true)\n",
      " |-- date: string (nullable = true)\n",
      " |-- direct: string (nullable = true)\n",
      " |-- district: string (nullable = true)\n",
      " |-- province: string (nullable = true)\n",
      " |-- street: string (nullable = true)\n",
      " |-- ward: string (nullable = true)\n",
      " |-- floor: string (nullable = true)\n",
      " |-- juridical: string (nullable = true)\n",
      " |-- bedroom: string (nullable = true)\n",
      " |-- length: string (nullable = true)\n",
      " |-- width: string (nullable = true)\n",
      " |-- link_image: string (nullable = true)\n",
      " |-- url_page: string (nullable = true)\n",
      " |-- livingroom: string (nullable = true)\n",
      " |-- bathroom: string (nullable = true)\n",
      " |-- pool: string (nullable = true)\n",
      " |-- garden: string (nullable = true)\n",
      " |-- project: string (nullable = true)\n",
      " |-- parking: string (nullable = true)\n",
      " |-- email: string (nullable = true)\n",
      " |-- kitchen: string (nullable = true)\n",
      " |-- terrace: string (nullable = true)\n",
      " |-- content: string (nullable = true)\n",
      "\n"
     ]
    }
   ],
   "source": [
    "data_full.printSchema()"
   ]
  }
 ],
 "metadata": {
  "kernelspec": {
   "display_name": "Python 3 (ipykernel)",
   "language": "python",
   "name": "python3"
  },
  "language_info": {
   "codemirror_mode": {
    "name": "ipython",
    "version": 3
   },
   "file_extension": ".py",
   "mimetype": "text/x-python",
   "name": "python",
   "nbconvert_exporter": "python",
   "pygments_lexer": "ipython3",
   "version": "3.9.7"
  }
 },
 "nbformat": 4,
 "nbformat_minor": 5
}
